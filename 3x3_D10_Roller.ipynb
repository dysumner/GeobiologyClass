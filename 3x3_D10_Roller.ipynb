{
 "cells": [
  {
   "cell_type": "markdown",
   "metadata": {},
   "source": [
    "D10 Dice Roller"
   ]
  },
  {
   "cell_type": "code",
   "execution_count": 1,
   "metadata": {},
   "outputs": [],
   "source": [
    "import random, time\n",
    "import IPython.display"
   ]
  },
  {
   "cell_type": "code",
   "execution_count": 3,
   "metadata": {},
   "outputs": [
    {
     "name": "stdout",
     "output_type": "stream",
     "text": [
      "2 \t 6 \t 8 \n",
      "\n",
      "\n",
      "5 \t 7 \t 8 \n",
      "\n",
      "\n",
      "6 \t 1 \t 4 \n",
      "\n",
      "\n"
     ]
    }
   ],
   "source": [
    "for j in range(20):\n",
    "    for i in range(3):\n",
    "        roll = [random.randint(1,10),random.randint(1,10),random.randint(1,10)]\n",
    "        print(roll[0],'\\t',roll[1],'\\t',roll[2],'\\n\\n')\n",
    "    time.sleep(3)\n",
    "    IPython.display.clear_output\n",
    "    IPython.display.clear_output(wait=True)\n"
   ]
  },
  {
   "cell_type": "code",
   "execution_count": null,
   "metadata": {},
   "outputs": [],
   "source": []
  }
 ],
 "metadata": {
  "kernelspec": {
   "display_name": "Python 3",
   "language": "python",
   "name": "python3"
  },
  "language_info": {
   "codemirror_mode": {
    "name": "ipython",
    "version": 3
   },
   "file_extension": ".py",
   "mimetype": "text/x-python",
   "name": "python",
   "nbconvert_exporter": "python",
   "pygments_lexer": "ipython3",
   "version": "3.6.4"
  }
 },
 "nbformat": 4,
 "nbformat_minor": 2
}
